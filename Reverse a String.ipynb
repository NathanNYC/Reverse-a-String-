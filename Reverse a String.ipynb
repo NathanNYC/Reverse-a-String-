{
 "cells": [
  {
   "cell_type": "code",
   "execution_count": 31,
   "metadata": {},
   "outputs": [
    {
     "name": "stdout",
     "output_type": "stream",
     "text": [
      "Enter a word: Goodnight Moon! \n",
      " !nooM thgindooG\n"
     ]
    }
   ],
   "source": [
    "x = input(\"Enter a word: \")\n",
    "\n",
    "y=len(x)\n",
    "z=y \n",
    "counter=0\n",
    "reverseList=[]\n",
    "\n",
    "while counter < y: \n",
    "    reverseList.append(x[z-1])\n",
    "    z=z-1\n",
    "    counter+=1\n",
    "    \n",
    "Clean = ''.join([str(elem) for elem in reverseList])\n",
    "\n",
    "print(Clean)\n",
    "\n",
    "\n"
   ]
  },
  {
   "cell_type": "code",
   "execution_count": null,
   "metadata": {},
   "outputs": [],
   "source": []
  }
 ],
 "metadata": {
  "kernelspec": {
   "display_name": "Python 3",
   "language": "python",
   "name": "python3"
  },
  "language_info": {
   "codemirror_mode": {
    "name": "ipython",
    "version": 3
   },
   "file_extension": ".py",
   "mimetype": "text/x-python",
   "name": "python",
   "nbconvert_exporter": "python",
   "pygments_lexer": "ipython3",
   "version": "3.7.0"
  }
 },
 "nbformat": 4,
 "nbformat_minor": 2
}
